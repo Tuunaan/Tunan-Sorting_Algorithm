{
  "nbformat": 4,
  "nbformat_minor": 0,
  "metadata": {
    "colab": {
      "provenance": []
    },
    "kernelspec": {
      "name": "python3",
      "display_name": "Python 3"
    },
    "language_info": {
      "name": "python"
    }
  },
  "cells": [
    {
      "cell_type": "code",
      "source": [
        "#Bubble Sort (Linked List)\n",
        "class Node:\n",
        "  def __init__(self,elem,next):\n",
        "    self.elem=elem\n",
        "    self.next=next\n",
        "class LinkedList:\n",
        "  def __init__(self,a):\n",
        "    self.head=Node(a[0],None)\n",
        "    self.tail=self.head\n",
        "    for i in range(1,len(a)):\n",
        "      n=Node(a[i],None)\n",
        "      self.tail.next=n\n",
        "      self.tail=self.tail.next\n",
        "  def last_idx(self):\n",
        "    c=0\n",
        "    temp=self.head\n",
        "    while temp!=None:\n",
        "      c+=1\n",
        "      temp=temp.next\n",
        "    return temp\n",
        "a=[9,13,7,23,4,10]\n",
        "j=LinkedList(a)\n",
        "head=j.head\n",
        "temp=head.elem\n",
        "\n",
        "\n",
        "def inner_loop(head):\n",
        "  if head.next==None:\n",
        "    return\n",
        "  else:\n",
        "    if head.elem>head.next.elem:\n",
        "      temp=head.elem\n",
        "      head.elem=head.next.elem\n",
        "      head.next.elem=temp\n",
        "    inner_loop(head.next)\n",
        "def bubble_sort(head,h2):\n",
        "  if head==None:\n",
        "    return\n",
        "  inner_loop(h2)\n",
        "  bubble_sort(head.next,h2)\n",
        "def printing(head):\n",
        "  while head!=None:\n",
        "    print(head.elem,end=\" \")\n",
        "    head=head.next\n",
        "bubble_sort(head,head)\n",
        "printing(head)"
      ],
      "metadata": {
        "colab": {
          "base_uri": "https://localhost:8080/"
        },
        "id": "OuXD5XiUgAGg",
        "outputId": "a688e944-e8a2-4866-ee83-b043a0cef4b0"
      },
      "execution_count": 49,
      "outputs": [
        {
          "output_type": "stream",
          "name": "stdout",
          "text": [
            "4 7 9 10 13 23 "
          ]
        }
      ]
    },
    {
      "cell_type": "code",
      "source": [
        "#Selection Sort (Linked List)\n",
        "class Node:\n",
        "  def __init__(self,elem,next):\n",
        "    self.elem=elem\n",
        "    self.next=next\n",
        "class LinkedList:\n",
        "  def __init__(self,a):\n",
        "    self.head=Node(a[0],None)\n",
        "    self.tail=self.head\n",
        "    for i in range(1,len(a)):\n",
        "      n=Node(a[i],None)\n",
        "      self.tail.next=n\n",
        "      self.tail=self.tail.next\n",
        "a=[9,13,7,23,4,10]\n",
        "j=LinkedList(a)\n",
        "head=j.head\n",
        "last=j.tail.elem\n",
        "def find_min_index(head,last):\n",
        "  if head.next==None:\n",
        "    return head\n",
        "  p=find_min_index(head.next,last)\n",
        "\n",
        "  if p.elem<head.elem:\n",
        "    return p\n",
        "  else:\n",
        "    return head\n",
        "\n",
        "def printing(head):\n",
        "  while head!=None:\n",
        "    print(head.elem,end=\" \")\n",
        "    head=head.next\n",
        "def selection_sort(store,head,last):\n",
        "  if head.next==None:\n",
        "    printing(store)\n",
        "    return\n",
        "  k=find_min_index(head,last)\n",
        "  if k.elem<head.elem:\n",
        "    temp=head.elem\n",
        "    head.elem=k.elem\n",
        "    k.elem=temp\n",
        "  selection_sort(store,head.next,last)\n",
        "selection_sort(head,head,last)\n",
        "\n"
      ],
      "metadata": {
        "colab": {
          "base_uri": "https://localhost:8080/"
        },
        "id": "nu5ioHIegDHj",
        "outputId": "779d410a-f723-4491-bff8-f64d54e711bc"
      },
      "execution_count": 48,
      "outputs": [
        {
          "output_type": "stream",
          "name": "stdout",
          "text": [
            "4 7 9 10 13 23 "
          ]
        }
      ]
    },
    {
      "cell_type": "code",
      "source": [
        "#Insertion Sort (Linked List)\n",
        "class Node:\n",
        "  def __init__(self,elem,next,prev):\n",
        "    self.elem=elem\n",
        "    self.next=next\n",
        "    self.prev=prev\n",
        "class LinkedList:\n",
        "  def __init__(self,a):\n",
        "    self.head=Node(a[0],None,None)\n",
        "    self.tail=self.head\n",
        "    for i in range(1,len(a)):\n",
        "      n=Node(a[i],None,None)\n",
        "      n.prev=self.tail\n",
        "      self.tail.next=n\n",
        "      self.tail=self.tail.next\n",
        "  def last_idx(self):\n",
        "    c=0\n",
        "    temp=self.head\n",
        "    while temp!=None:\n",
        "      c+=1\n",
        "      temp=temp.next\n",
        "    return temp\n",
        "a=[9,13,7,23,4,10]\n",
        "j=LinkedList(a)\n",
        "head=j.head\n",
        "def insertion_sort(head):\n",
        "  if head==None:\n",
        "    return\n",
        "  else:\n",
        "    min=head\n",
        "    hold=head.elem\n",
        "    swapping(min,hold)\n",
        "    a=min_pos(min,hold)\n",
        "    if a.elem!=hold:\n",
        "      a.elem=hold\n",
        "    insertion_sort(head.next)\n",
        "def min_pos(min,hold):\n",
        "  if min.prev==None or min.prev.elem<hold:\n",
        "    return min\n",
        "  else:\n",
        "    if min.prev.elem>hold:\n",
        "      min=min.prev\n",
        "      return min_pos(min,hold)\n",
        "def swapping(min,hold):\n",
        "  if min.prev==None or min.prev.elem<hold:\n",
        "    return\n",
        "  else:\n",
        "    if min.prev.elem>hold:\n",
        "      min.elem=min.prev.elem\n",
        "      min=min.prev\n",
        "      swapping(min,hold)\n",
        "def printing(head):\n",
        "  while head!=None:\n",
        "    print(head.elem,end=\" \")\n",
        "    head=head.next\n",
        "insertion_sort(head)\n",
        "printing(head)\n",
        "\n"
      ],
      "metadata": {
        "colab": {
          "base_uri": "https://localhost:8080/"
        },
        "id": "yIEipW-qgGbj",
        "outputId": "9ffa9586-9326-4a54-c776-ca3b4e80713b"
      },
      "execution_count": 50,
      "outputs": [
        {
          "output_type": "stream",
          "name": "stdout",
          "text": [
            "4 7 9 10 13 23 "
          ]
        }
      ]
    },
    {
      "cell_type": "code",
      "source": [
        "#Selection Sort(Array)\n",
        "def selection_sort(a,start,end):\n",
        "  if start==end:\n",
        "    return\n",
        "  minimum_idx=min_idx(a,start,end)\n",
        "  if a[minimum_idx]<a[start]:\n",
        "    a[minimum_idx],a[start]=a[start],a[minimum_idx]\n",
        "  selection_sort(a,start+1,end)\n",
        "def min_idx(a,start,end):\n",
        "  if start==end:\n",
        "    return start\n",
        "  p=min_idx(a,start+1,end)\n",
        "  if a[p]<a[start]:\n",
        "    return p\n",
        "  else:\n",
        "    return start\n",
        "a=[3,9,2,6,4,5]\n",
        "selection_sort(a,0,len(a)-1)\n",
        "print(a)"
      ],
      "metadata": {
        "colab": {
          "base_uri": "https://localhost:8080/"
        },
        "id": "300qoymygebd",
        "outputId": "21f3c9f4-2600-4e19-efba-ad2123865b97"
      },
      "execution_count": 56,
      "outputs": [
        {
          "output_type": "stream",
          "name": "stdout",
          "text": [
            "[2, 3, 4, 5, 6, 9]\n"
          ]
        }
      ]
    },
    {
      "cell_type": "code",
      "source": [
        "#Insertion Sort(array)\n",
        "def insertion_sort(array,idx,length):\n",
        "  if idx==length:\n",
        "      return -1\n",
        "  if idx<length:\n",
        "      j=idx-1\n",
        "      insert_value=array[idx]\n",
        "      swapping(insert_value,j,array)\n",
        "      p=position(insert_value,j,array)\n",
        "      array[p+1]=insert_value\n",
        "      insertion_sort(array,idx+1,length)\n",
        "def position(val,j,array):\n",
        "  if j<0 or val>array[j]:\n",
        "    return j\n",
        "  elif val<=array[j]:\n",
        "    j-=1\n",
        "    return position(val,j,array)\n",
        "def swapping(val,j,array):\n",
        "  if j<0 or val>array[j]:\n",
        "    return\n",
        "  else:\n",
        "    if val<=array[j]:\n",
        "      array[j+1]=array[j]\n",
        "      swapping(val,j-1,array)\n",
        "\n",
        "\n",
        "a=[9,13,7,23,4,10]\n",
        "insertion_sort(a,1,len(a))\n",
        "print(a)"
      ],
      "metadata": {
        "colab": {
          "base_uri": "https://localhost:8080/"
        },
        "id": "9PWhYwGoghoG",
        "outputId": "050a2df3-48bb-47a7-d7ae-de4b87537517"
      },
      "execution_count": 57,
      "outputs": [
        {
          "output_type": "stream",
          "name": "stdout",
          "text": [
            "[4, 7, 9, 10, 13, 23]\n"
          ]
        }
      ]
    },
    {
      "cell_type": "code",
      "source": [
        "#Merge Sort(Array)\n",
        "def merge(a,b):\n",
        "  i=0\n",
        "  j=0\n",
        "  new=[]\n",
        "  while (i<len(a) and j<len(b)):\n",
        "    if(a[i]<b[j]):\n",
        "      new.append(a[i])\n",
        "      i=i+1\n",
        "    else:\n",
        "      new.append(b[j])\n",
        "      j=j+1\n",
        "  while(i<len(a)):\n",
        "      new.append(a[i])\n",
        "      i=i+1\n",
        "  while(j<len(b)):\n",
        "      new.append(b[j])\n",
        "      j=j+1\n",
        "  return new\n",
        "\n",
        "def merge_sort(arr):\n",
        "  if(len(arr)==1):\n",
        "    return arr\n",
        "  mid=(len(arr))// 2\n",
        "  left=merge_sort(arr[: mid] )\n",
        "  right=merge_sort(arr[mid:] )\n",
        "  return merge(left,right)\n",
        "\n",
        "a=[5,3,9,2,9,2,9,2]\n",
        "a=merge_sort(a)\n",
        "print(a)"
      ],
      "metadata": {
        "colab": {
          "base_uri": "https://localhost:8080/"
        },
        "id": "d2AJG0DyguN2",
        "outputId": "8dd9d738-a73e-4330-9991-3736f2611cbd"
      },
      "execution_count": 58,
      "outputs": [
        {
          "output_type": "stream",
          "name": "stdout",
          "text": [
            "[2, 2, 2, 3, 5, 9, 9, 9]\n"
          ]
        }
      ]
    },
    {
      "cell_type": "code",
      "source": [
        "#Bubble Sort(Arry)\n",
        "def BubbleSort(arr):\n",
        "  for i in range(len(arr)):\n",
        "    for j in range(0, len(arr) - i - 1):\n",
        "      if arr[j] > arr[j + 1]:\n",
        "        temp = arr[j]\n",
        "        arr[j] = arr[j+1]\n",
        "        arr[j+1] = temp\n",
        "  return (arr)\n",
        "arr=[96,74,58,328,48,12,8,66]\n",
        "print(BubbleSort(arr))\n",
        "\n",
        "\n",
        "\n"
      ],
      "metadata": {
        "colab": {
          "base_uri": "https://localhost:8080/"
        },
        "id": "axMtUJ0hfq4V",
        "outputId": "3a113279-af24-419a-a4ad-fb5757fcbaa6"
      },
      "execution_count": 59,
      "outputs": [
        {
          "output_type": "stream",
          "name": "stdout",
          "text": [
            "[8, 12, 48, 58, 66, 74, 96, 328]\n"
          ]
        }
      ]
    },
    {
      "cell_type": "code",
      "source": [
        "#Quick Sort(Array)\n",
        "def QuickSort(arr,first,last):\n",
        "  if first<last:\n",
        "    store=partition(arr,first,last)\n",
        "    QuickSort(arr,first,store-1)\n",
        "    QuickSort(arr,store+1,last)\n",
        "  return arr\n",
        "\n",
        "def partition(arr,first,last):\n",
        "  save=arr[last]\n",
        "  x=first-1\n",
        "\n",
        "  for b in range(first,last):\n",
        "    if arr[b]<save:\n",
        "      x=x+1\n",
        "      arr[x],arr[b]= arr[b],arr[x]\n",
        "\n",
        "  arr[x+1],arr[last]=arr[last],arr[x+1]\n",
        "  final_value=x+1\n",
        "  return final_value\n",
        "\n",
        "lst=[5,7,8,2,9,4,1,3,6,0]\n",
        "final_value=QuickSort(lst,0,len(lst)-1)\n",
        "print(final_value)"
      ],
      "metadata": {
        "colab": {
          "base_uri": "https://localhost:8080/"
        },
        "id": "y8K1fhFCf-0L",
        "outputId": "1ea95274-4f82-4a33-f86e-db1b836f4931"
      },
      "execution_count": 60,
      "outputs": [
        {
          "output_type": "stream",
          "name": "stdout",
          "text": [
            "[0, 1, 2, 3, 4, 5, 6, 7, 8, 9]\n"
          ]
        }
      ]
    }
  ]
}